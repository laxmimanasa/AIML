{
 "cells": [
  {
   "cell_type": "code",
   "execution_count": 4,
   "id": "bd7b4868",
   "metadata": {},
   "outputs": [],
   "source": [
    "import numpy as np # linear algebra\n",
    "import pandas as pd # data processing, CSV file I/O (e.g. pd.read_csv)\n",
    "import re # regular expression\n",
    "import seaborn as sns\n",
    "import matplotlib as plt\n",
    "%matplotlib inline\n",
    "import nltk\n",
    "\n",
    "import os\n",
    "# for dirname, _, filenames in os.walk('/kaggle/input'):\n",
    "#     for filename in filenames:\n",
    "#         print(os.path.join(dirname, filename))\n"
   ]
  },
  {
   "cell_type": "code",
   "execution_count": 5,
   "id": "ab4d87a9",
   "metadata": {},
   "outputs": [],
   "source": [
    "\n",
    "#Import the data set\n",
    "df=pd.read_csv(\"C:\\\\Users\\\\laxmimanasaa\\\\Downloads\\\\blogs\\\\blogtext.csv\")"
   ]
  },
  {
   "cell_type": "code",
   "execution_count": 6,
   "id": "ba47446f",
   "metadata": {},
   "outputs": [
    {
     "data": {
      "text/html": [
       "<div>\n",
       "<style scoped>\n",
       "    .dataframe tbody tr th:only-of-type {\n",
       "        vertical-align: middle;\n",
       "    }\n",
       "\n",
       "    .dataframe tbody tr th {\n",
       "        vertical-align: top;\n",
       "    }\n",
       "\n",
       "    .dataframe thead th {\n",
       "        text-align: right;\n",
       "    }\n",
       "</style>\n",
       "<table border=\"1\" class=\"dataframe\">\n",
       "  <thead>\n",
       "    <tr style=\"text-align: right;\">\n",
       "      <th></th>\n",
       "      <th>id</th>\n",
       "      <th>gender</th>\n",
       "      <th>age</th>\n",
       "      <th>topic</th>\n",
       "      <th>sign</th>\n",
       "      <th>date</th>\n",
       "      <th>text</th>\n",
       "    </tr>\n",
       "  </thead>\n",
       "  <tbody>\n",
       "    <tr>\n",
       "      <th>0</th>\n",
       "      <td>2059027</td>\n",
       "      <td>male</td>\n",
       "      <td>15</td>\n",
       "      <td>Student</td>\n",
       "      <td>Leo</td>\n",
       "      <td>14,May,2004</td>\n",
       "      <td>Info has been found (+/- 100 pages,...</td>\n",
       "    </tr>\n",
       "    <tr>\n",
       "      <th>1</th>\n",
       "      <td>2059027</td>\n",
       "      <td>male</td>\n",
       "      <td>15</td>\n",
       "      <td>Student</td>\n",
       "      <td>Leo</td>\n",
       "      <td>13,May,2004</td>\n",
       "      <td>These are the team members:   Drewe...</td>\n",
       "    </tr>\n",
       "    <tr>\n",
       "      <th>2</th>\n",
       "      <td>2059027</td>\n",
       "      <td>male</td>\n",
       "      <td>15</td>\n",
       "      <td>Student</td>\n",
       "      <td>Leo</td>\n",
       "      <td>12,May,2004</td>\n",
       "      <td>In het kader van kernfusie op aarde...</td>\n",
       "    </tr>\n",
       "    <tr>\n",
       "      <th>3</th>\n",
       "      <td>2059027</td>\n",
       "      <td>male</td>\n",
       "      <td>15</td>\n",
       "      <td>Student</td>\n",
       "      <td>Leo</td>\n",
       "      <td>12,May,2004</td>\n",
       "      <td>testing!!!  testing!!!</td>\n",
       "    </tr>\n",
       "    <tr>\n",
       "      <th>4</th>\n",
       "      <td>3581210</td>\n",
       "      <td>male</td>\n",
       "      <td>33</td>\n",
       "      <td>InvestmentBanking</td>\n",
       "      <td>Aquarius</td>\n",
       "      <td>11,June,2004</td>\n",
       "      <td>Thanks to Yahoo!'s Toolbar I can ...</td>\n",
       "    </tr>\n",
       "  </tbody>\n",
       "</table>\n",
       "</div>"
      ],
      "text/plain": [
       "        id gender  age              topic      sign          date  \\\n",
       "0  2059027   male   15            Student       Leo   14,May,2004   \n",
       "1  2059027   male   15            Student       Leo   13,May,2004   \n",
       "2  2059027   male   15            Student       Leo   12,May,2004   \n",
       "3  2059027   male   15            Student       Leo   12,May,2004   \n",
       "4  3581210   male   33  InvestmentBanking  Aquarius  11,June,2004   \n",
       "\n",
       "                                                text  \n",
       "0             Info has been found (+/- 100 pages,...  \n",
       "1             These are the team members:   Drewe...  \n",
       "2             In het kader van kernfusie op aarde...  \n",
       "3                   testing!!!  testing!!!            \n",
       "4               Thanks to Yahoo!'s Toolbar I can ...  "
      ]
     },
     "execution_count": 6,
     "metadata": {},
     "output_type": "execute_result"
    }
   ],
   "source": [
    "# see few rows of the imported dataset\n",
    "df.head()"
   ]
  },
  {
   "cell_type": "code",
   "execution_count": 7,
   "id": "52b6f4cf",
   "metadata": {},
   "outputs": [
    {
     "data": {
      "text/plain": [
       "(681284, 7)"
      ]
     },
     "execution_count": 7,
     "metadata": {},
     "output_type": "execute_result"
    }
   ],
   "source": [
    "# Check the number of rows and columns\n",
    "df.shape"
   ]
  },
  {
   "cell_type": "code",
   "execution_count": 8,
   "id": "fc8663a1",
   "metadata": {},
   "outputs": [
    {
     "name": "stdout",
     "output_type": "stream",
     "text": [
      "<class 'pandas.core.frame.DataFrame'>\n",
      "RangeIndex: 681284 entries, 0 to 681283\n",
      "Data columns (total 7 columns):\n",
      " #   Column  Non-Null Count   Dtype \n",
      "---  ------  --------------   ----- \n",
      " 0   id      681284 non-null  int64 \n",
      " 1   gender  681284 non-null  object\n",
      " 2   age     681284 non-null  int64 \n",
      " 3   topic   681284 non-null  object\n",
      " 4   sign    681284 non-null  object\n",
      " 5   date    681284 non-null  object\n",
      " 6   text    681284 non-null  object\n",
      "dtypes: int64(2), object(5)\n",
      "memory usage: 36.4+ MB\n"
     ]
    }
   ],
   "source": [
    "#Check Data types\n",
    "df.info()\n"
   ]
  },
  {
   "cell_type": "code",
   "execution_count": 9,
   "id": "fd793389",
   "metadata": {},
   "outputs": [
    {
     "name": "stdout",
     "output_type": "stream",
     "text": [
      "Number of missing values across columns-\n",
      " id        0\n",
      "gender    0\n",
      "age       0\n",
      "topic     0\n",
      "sign      0\n",
      "date      0\n",
      "text      0\n",
      "dtype: int64\n"
     ]
    }
   ],
   "source": [
    "# Check for missing values present\n",
    "print('Number of missing values across columns-\\n', df.isnull().sum())\n"
   ]
  },
  {
   "cell_type": "markdown",
   "id": "856992b6",
   "metadata": {},
   "source": [
    "There are 68,124 records which is large in size to perform analysis and computation, hence we are going to take a subset and rerun with the entire data-set once all errors are fixed and optimization is done\n"
   ]
  },
  {
   "cell_type": "code",
   "execution_count": 10,
   "id": "4e1b0929",
   "metadata": {},
   "outputs": [
    {
     "data": {
      "text/plain": [
       "<AxesSubplot:xlabel='gender', ylabel='count'>"
      ]
     },
     "execution_count": 10,
     "metadata": {},
     "output_type": "execute_result"
    },
    {
     "data": {
      "image/png": "[encoded data removed]",
      "text/plain": [
       "<Figure size 432x288 with 1 Axes>"
      ]
     },
     "metadata": {
      "needs_background": "light"
     },
     "output_type": "display_data"
    }
   ],
   "source": [
    "# Checking gendre distribution\n",
    "sns.countplot(x='gender',data=df)"
   ]
  },
  {
   "cell_type": "code",
   "execution_count": 11,
   "id": "106d4606",
   "metadata": {},
   "outputs": [
    {
     "data": {
      "text/plain": [
       "<AxesSubplot:xlabel='sign', ylabel='count'>"
      ]
     },
     "execution_count": 11,
     "metadata": {},
     "output_type": "execute_result"
    },
    {
     "data": {
      "image/png": "[encoded data removed]",
      "text/plain": [
       "<Figure size 432x288 with 1 Axes>"
      ]
     },
     "metadata": {
      "needs_background": "light"
     },
     "output_type": "display_data"
    }
   ],
   "source": [
    "# Checking sign distribution\n",
    "sns.countplot(x='sign',data=df)"
   ]
  },
  {
   "cell_type": "code",
   "execution_count": 12,
   "id": "29ff944d",
   "metadata": {},
   "outputs": [],
   "source": [
    "# Creation of data sub-set\n",
    "data=df.head(15000)\n"
   ]
  },
  {
   "cell_type": "code",
   "execution_count": 11,
   "id": "706bb906",
   "metadata": {},
   "outputs": [
    {
     "name": "stderr",
     "output_type": "stream",
     "text": [
      "<ipython-input-11-d552af6fab81>:2: SettingWithCopyWarning: \n",
      "A value is trying to be set on a copy of a slice from a DataFrame\n",
      "\n",
      "See the caveats in the documentation: https://pandas.pydata.org/pandas-docs/stable/user_guide/indexing.html#returning-a-view-versus-a-copy\n",
      "  data.drop(['id','date'], axis=1, inplace=True)\n"
     ]
    }
   ],
   "source": [
    "# dropping non value added variables - id & date\n",
    "data.drop(['id','date'], axis=1, inplace=True)"
   ]
  },
  {
   "cell_type": "code",
   "execution_count": 13,
   "id": "4561be2a",
   "metadata": {},
   "outputs": [
    {
     "data": {
      "text/html": [
       "<div>\n",
       "<style scoped>\n",
       "    .dataframe tbody tr th:only-of-type {\n",
       "        vertical-align: middle;\n",
       "    }\n",
       "\n",
       "    .dataframe tbody tr th {\n",
       "        vertical-align: top;\n",
       "    }\n",
       "\n",
       "    .dataframe thead th {\n",
       "        text-align: right;\n",
       "    }\n",
       "</style>\n",
       "<table border=\"1\" class=\"dataframe\">\n",
       "  <thead>\n",
       "    <tr style=\"text-align: right;\">\n",
       "      <th></th>\n",
       "      <th>id</th>\n",
       "      <th>gender</th>\n",
       "      <th>age</th>\n",
       "      <th>topic</th>\n",
       "      <th>sign</th>\n",
       "      <th>date</th>\n",
       "      <th>text</th>\n",
       "    </tr>\n",
       "  </thead>\n",
       "  <tbody>\n",
       "    <tr>\n",
       "      <th>0</th>\n",
       "      <td>2059027</td>\n",
       "      <td>male</td>\n",
       "      <td>15</td>\n",
       "      <td>Student</td>\n",
       "      <td>Leo</td>\n",
       "      <td>14,May,2004</td>\n",
       "      <td>Info has been found (+/- 100 pages,...</td>\n",
       "    </tr>\n",
       "    <tr>\n",
       "      <th>1</th>\n",
       "      <td>2059027</td>\n",
       "      <td>male</td>\n",
       "      <td>15</td>\n",
       "      <td>Student</td>\n",
       "      <td>Leo</td>\n",
       "      <td>13,May,2004</td>\n",
       "      <td>These are the team members:   Drewe...</td>\n",
       "    </tr>\n",
       "    <tr>\n",
       "      <th>2</th>\n",
       "      <td>2059027</td>\n",
       "      <td>male</td>\n",
       "      <td>15</td>\n",
       "      <td>Student</td>\n",
       "      <td>Leo</td>\n",
       "      <td>12,May,2004</td>\n",
       "      <td>In het kader van kernfusie op aarde...</td>\n",
       "    </tr>\n",
       "    <tr>\n",
       "      <th>3</th>\n",
       "      <td>2059027</td>\n",
       "      <td>male</td>\n",
       "      <td>15</td>\n",
       "      <td>Student</td>\n",
       "      <td>Leo</td>\n",
       "      <td>12,May,2004</td>\n",
       "      <td>testing!!!  testing!!!</td>\n",
       "    </tr>\n",
       "    <tr>\n",
       "      <th>4</th>\n",
       "      <td>3581210</td>\n",
       "      <td>male</td>\n",
       "      <td>33</td>\n",
       "      <td>InvestmentBanking</td>\n",
       "      <td>Aquarius</td>\n",
       "      <td>11,June,2004</td>\n",
       "      <td>Thanks to Yahoo!'s Toolbar I can ...</td>\n",
       "    </tr>\n",
       "  </tbody>\n",
       "</table>\n",
       "</div>"
      ],
      "text/plain": [
       "        id gender  age              topic      sign          date  \\\n",
       "0  2059027   male   15            Student       Leo   14,May,2004   \n",
       "1  2059027   male   15            Student       Leo   13,May,2004   \n",
       "2  2059027   male   15            Student       Leo   12,May,2004   \n",
       "3  2059027   male   15            Student       Leo   12,May,2004   \n",
       "4  3581210   male   33  InvestmentBanking  Aquarius  11,June,2004   \n",
       "\n",
       "                                                text  \n",
       "0             Info has been found (+/- 100 pages,...  \n",
       "1             These are the team members:   Drewe...  \n",
       "2             In het kader van kernfusie op aarde...  \n",
       "3                   testing!!!  testing!!!            \n",
       "4               Thanks to Yahoo!'s Toolbar I can ...  "
      ]
     },
     "execution_count": 13,
     "metadata": {},
     "output_type": "execute_result"
    }
   ],
   "source": [
    "\n",
    "# looking at few rows post dropping non value added variables\n",
    "data.head()\n"
   ]
  },
  {
   "cell_type": "code",
   "execution_count": 14,
   "id": "2a79b863",
   "metadata": {},
   "outputs": [
    {
     "name": "stderr",
     "output_type": "stream",
     "text": [
      "<ipython-input-14-6efc932712a6>:2: SettingWithCopyWarning: \n",
      "A value is trying to be set on a copy of a slice from a DataFrame.\n",
      "Try using .loc[row_indexer,col_indexer] = value instead\n",
      "\n",
      "See the caveats in the documentation: https://pandas.pydata.org/pandas-docs/stable/user_guide/indexing.html#returning-a-view-versus-a-copy\n",
      "  data['age']=data['age'].astype('object')\n"
     ]
    }
   ],
   "source": [
    "\n",
    "# converting \"age\" from int to object\n",
    "data['age']=data['age'].astype('object')"
   ]
  },
  {
   "cell_type": "code",
   "execution_count": 15,
   "id": "d5cfb6e1",
   "metadata": {},
   "outputs": [
    {
     "name": "stdout",
     "output_type": "stream",
     "text": [
      "<class 'pandas.core.frame.DataFrame'>\n",
      "RangeIndex: 15000 entries, 0 to 14999\n",
      "Data columns (total 7 columns):\n",
      " #   Column  Non-Null Count  Dtype \n",
      "---  ------  --------------  ----- \n",
      " 0   id      15000 non-null  int64 \n",
      " 1   gender  15000 non-null  object\n",
      " 2   age     15000 non-null  object\n",
      " 3   topic   15000 non-null  object\n",
      " 4   sign    15000 non-null  object\n",
      " 5   date    15000 non-null  object\n",
      " 6   text    15000 non-null  object\n",
      "dtypes: int64(1), object(6)\n",
      "memory usage: 820.4+ KB\n"
     ]
    }
   ],
   "source": [
    "# check to ensure all columns in object type\n",
    "data.info()\n"
   ]
  },
  {
   "cell_type": "markdown",
   "id": "f3035479",
   "metadata": {},
   "source": [
    "## Data Wrangling for data['text'] column to remove all unwanted text from the column"
   ]
  },
  {
   "cell_type": "code",
   "execution_count": null,
   "id": "95019617",
   "metadata": {},
   "outputs": [],
   "source": [
    "# remove unwanted spaces\n",
    "\n",
    "data ['clean_data']= data['clean_data'].apply(lambda x: x.strip())"
   ]
  },
  {
   "cell_type": "code",
   "execution_count": null,
   "id": "d6f25872",
   "metadata": {},
   "outputs": [],
   "source": [
    "# remove unwanted spaces\n",
    "\n",
    "data ['clean_data']= data['clean_data'].apply(lambda x: x.strip())"
   ]
  },
  {
   "cell_type": "code",
   "execution_count": null,
   "id": "784ae543",
   "metadata": {},
   "outputs": [],
   "source": [
    "\n",
    "# converting \"age\" from int to object\n",
    "data['age']=data['age'].astype('object')\n"
   ]
  },
  {
   "cell_type": "code",
   "execution_count": null,
   "id": "68f6dd28",
   "metadata": {},
   "outputs": [],
   "source": [
    "# check to ensure all columns in object type\n",
    "data.info()\n",
    "\n"
   ]
  },
  {
   "cell_type": "markdown",
   "id": "11eea758",
   "metadata": {},
   "source": [
    "## Data Wrangling for data['text'] column to remove all unwanted text from the column"
   ]
  },
  {
   "cell_type": "code",
   "execution_count": null,
   "id": "0e350a41",
   "metadata": {},
   "outputs": [],
   "source": [
    "# remove unwanted chars other than alphanumeric\n",
    "data['clean_data']=data['text'].apply(lambda x: re.sub(r'[^A-Za-z]+',' ',x))"
   ]
  },
  {
   "cell_type": "code",
   "execution_count": null,
   "id": "8273da27",
   "metadata": {},
   "outputs": [],
   "source": [
    "# covert text to lower\n",
    "data['clean_data']=data['clean_data'].apply(lambda x: x.lower())\n"
   ]
  },
  {
   "cell_type": "code",
   "execution_count": null,
   "id": "fecd418c",
   "metadata": {},
   "outputs": [],
   "source": [
    "# remove unwanted spaces\n",
    "data['clean_data']=data['clean_data'].apply(lambda x: x.strip())\n"
   ]
  },
  {
   "cell_type": "code",
   "execution_count": null,
   "id": "58d2d6a2",
   "metadata": {},
   "outputs": [],
   "source": [
    "print(\"Actual data=======> {}\".format(data['text'][1]))"
   ]
  },
  {
   "cell_type": "markdown",
   "id": "2490ddf6",
   "metadata": {},
   "source": [
    "## Removing all stopwords"
   ]
  },
  {
   "cell_type": "code",
   "execution_count": null,
   "id": "f32ad019",
   "metadata": {},
   "outputs": [],
   "source": [
    "#remove stopwords\n",
    "import nltk\n",
    "from nltk.corpus import stopwords\n",
    "nltk.download('stopwords')\n",
    "stop = stopwords.words('english')\n"
   ]
  },
  {
   "cell_type": "code",
   "execution_count": null,
   "id": "a700f1f2",
   "metadata": {},
   "outputs": [],
   "source": [
    "\n",
    "stopwords=set(stopwords.words('english'))"
   ]
  },
  {
   "cell_type": "code",
   "execution_count": null,
   "id": "386b0fd7",
   "metadata": {},
   "outputs": [],
   "source": [
    "data['clean_data']=data['clean_data'].apply(lambda x: ' '.join([words for words in x.split() if words not in stopwords]))"
   ]
  },
  {
   "cell_type": "code",
   "execution_count": null,
   "id": "eb9cc8dc",
   "metadata": {},
   "outputs": [],
   "source": [
    "data['clean_data'][6]"
   ]
  },
  {
   "cell_type": "markdown",
   "id": "e71757dd",
   "metadata": {},
   "source": [
    "## Merging all other cols into label col."
   ]
  },
  {
   "cell_type": "code",
   "execution_count": null,
   "id": "7b35e0dd",
   "metadata": {},
   "outputs": [],
   "source": [
    "# merging cols. gender, age, topic and sign into lables col\n",
    "data['labels']=data.apply(lambda col: [col['gender'],str(col['age']),col['topic'],col['sign']], axis=1)\n"
   ]
  },
  {
   "cell_type": "code",
   "execution_count": null,
   "id": "928b0948",
   "metadata": {},
   "outputs": [],
   "source": [
    "# look at data set post merging cols\n",
    "data.head()\n"
   ]
  },
  {
   "cell_type": "code",
   "execution_count": null,
   "id": "1efcea58",
   "metadata": {},
   "outputs": [],
   "source": [
    "\n",
    "# retain data set with two pre-processed columns \n",
    "data=data[['clean_data','labels']]\n"
   ]
  },
  {
   "cell_type": "code",
   "execution_count": null,
   "id": "3db6b041",
   "metadata": {},
   "outputs": [],
   "source": [
    "data.head()"
   ]
  },
  {
   "cell_type": "markdown",
   "id": "af0d2b90",
   "metadata": {},
   "source": [
    "## Splitting the data into X and Y\n"
   ]
  },
  {
   "cell_type": "code",
   "execution_count": null,
   "id": "7c68d9d6",
   "metadata": {},
   "outputs": [],
   "source": [
    "X=data['clean_data']"
   ]
  },
  {
   "cell_type": "code",
   "execution_count": null,
   "id": "f6ecb02d",
   "metadata": {},
   "outputs": [],
   "source": [
    "Y=data['labels']\n"
   ]
  },
  {
   "cell_type": "code",
   "execution_count": null,
   "id": "6fdb9fa6",
   "metadata": {},
   "outputs": [],
   "source": [
    "#perform count vectorizer with bi-grams and tri-grams to get the count vectors of the X data\n",
    "from sklearn.feature_extraction.text import CountVectorizer\n"
   ]
  },
  {
   "cell_type": "code",
   "execution_count": null,
   "id": "b6f0b422",
   "metadata": {},
   "outputs": [],
   "source": [
    "vectorizer=CountVectorizer(binary=True, ngram_range=(1,2))"
   ]
  },
  {
   "cell_type": "code",
   "execution_count": null,
   "id": "c8838468",
   "metadata": {},
   "outputs": [],
   "source": [
    "X=vectorizer.fit_transform(X)\n"
   ]
  },
  {
   "cell_type": "code",
   "execution_count": null,
   "id": "8eff9788",
   "metadata": {},
   "outputs": [],
   "source": [
    "X[1]"
   ]
  },
  {
   "cell_type": "code",
   "execution_count": null,
   "id": "fd21bc45",
   "metadata": {},
   "outputs": [],
   "source": [
    "\n",
    "# check feature names post vectorization\n",
    "vectorizer.get_feature_names()[:6]"
   ]
  },
  {
   "cell_type": "code",
   "execution_count": null,
   "id": "01712f1f",
   "metadata": {},
   "outputs": [],
   "source": [
    "label_counts=dict()\n",
    "\n",
    "for labels in data.labels.values:\n",
    "    for label in labels:\n",
    "        if label in label_counts:\n",
    "            label_counts[label]+=1\n",
    "        else:\n",
    "            label_counts[label]=1"
   ]
  },
  {
   "cell_type": "code",
   "execution_count": null,
   "id": "871a06f1",
   "metadata": {},
   "outputs": [],
   "source": [
    "\n",
    "label_counts"
   ]
  },
  {
   "cell_type": "markdown",
   "id": "e216d730",
   "metadata": {},
   "source": [
    "## Pre-processing the labels\n"
   ]
  },
  {
   "cell_type": "code",
   "execution_count": null,
   "id": "6c3a507f",
   "metadata": {},
   "outputs": [],
   "source": [
    "from sklearn.preprocessing import MultiLabelBinarizer\n",
    "binarizer=MultiLabelBinarizer(classes=sorted(label_counts.keys()))\n"
   ]
  },
  {
   "cell_type": "code",
   "execution_count": null,
   "id": "61daf84e",
   "metadata": {},
   "outputs": [],
   "source": [
    "Y=binarizer.fit_transform(data.labels)\n"
   ]
  },
  {
   "cell_type": "markdown",
   "id": "7d3f7a58",
   "metadata": {},
   "source": [
    "## Splitting the data into 80% Train set :20% Test set"
   ]
  },
  {
   "cell_type": "code",
   "execution_count": null,
   "id": "3314cd91",
   "metadata": {},
   "outputs": [],
   "source": [
    "\n",
    "from sklearn.model_selection import train_test_split"
   ]
  },
  {
   "cell_type": "code",
   "execution_count": null,
   "id": "61fd922c",
   "metadata": {},
   "outputs": [],
   "source": [
    "Xtrain,Xtest,Ytrain,Ytest=train_test_split(X,Y,random_state=2,test_size = 0.2)"
   ]
  },
  {
   "cell_type": "code",
   "execution_count": null,
   "id": "6f208c75",
   "metadata": {},
   "outputs": [],
   "source": [
    "print(Xtrain.shape)\n",
    "print(Ytrain.shape)"
   ]
  },
  {
   "cell_type": "code",
   "execution_count": null,
   "id": "1716ae27",
   "metadata": {},
   "outputs": [],
   "source": [
    "print(Xtest.shape)\n",
    "print(Ytest.shape)"
   ]
  },
  {
   "cell_type": "code",
   "execution_count": null,
   "id": "4d748041",
   "metadata": {},
   "outputs": [],
   "source": [
    "\n",
    "from sklearn.multiclass import OneVsRestClassifier\n",
    "from sklearn.linear_model import LogisticRegression"
   ]
  },
  {
   "cell_type": "markdown",
   "id": "89d7c894",
   "metadata": {},
   "source": [
    "## Building classification model"
   ]
  },
  {
   "cell_type": "code",
   "execution_count": null,
   "id": "9f622604",
   "metadata": {},
   "outputs": [],
   "source": [
    "model=LogisticRegression(solver='lbfgs')"
   ]
  },
  {
   "cell_type": "code",
   "execution_count": null,
   "id": "2e05a0d4",
   "metadata": {},
   "outputs": [],
   "source": [
    "model=OneVsRestClassifier(model)"
   ]
  },
  {
   "cell_type": "code",
   "execution_count": null,
   "id": "6624abd7",
   "metadata": {},
   "outputs": [],
   "source": [
    "\n",
    "model.fit(Xtrain,Ytrain)\n"
   ]
  },
  {
   "cell_type": "code",
   "execution_count": null,
   "id": "99776867",
   "metadata": {},
   "outputs": [],
   "source": [
    "Ypred=model.predict(Xtest)\n"
   ]
  },
  {
   "cell_type": "code",
   "execution_count": null,
   "id": "67738ce7",
   "metadata": {},
   "outputs": [],
   "source": [
    "Ypred_inversed = binarizer.inverse_transform(Ypred)\n",
    "y_test_inversed = binarizer.inverse_transform(Ytest)"
   ]
  },
  {
   "cell_type": "markdown",
   "id": "b5cd5a77",
   "metadata": {},
   "source": [
    "## Printing True vs Predicted label"
   ]
  },
  {
   "cell_type": "code",
   "execution_count": null,
   "id": "911e3021",
   "metadata": {},
   "outputs": [],
   "source": [
    "\n",
    "for i in range(5):\n",
    "    print('Text:\\t{}\\nTrue labels:\\t{}\\nPredicted labels:\\t{}\\n\\n'.format(\n",
    "        Xtest[i],\n",
    "        ','.join(y_test_inversed[i]),\n",
    "        ','.join(Ypred_inversed[i])\n",
    "    ))"
   ]
  },
  {
   "cell_type": "code",
   "execution_count": null,
   "id": "8e43655d",
   "metadata": {},
   "outputs": [],
   "source": [
    "from sklearn.metrics import accuracy_score\n",
    "from sklearn.metrics import f1_score\n",
    "from sklearn.metrics import average_precision_score\n",
    "from sklearn.metrics import recall_score\n",
    "\n",
    "def print_evaluation_scores_micro(Ytest, Ypred):\n",
    "    print('Accuracy score: ', accuracy_score(Ytest, Ypred))\n",
    "    print('F1 score: ', f1_score(Ytest, Ypred, average='micro'))\n",
    "    print('Average precision score: ', average_precision_score(Ytest, Ypred, average='micro'))\n",
    "    print('Average recall score: ', recall_score(Ytest, Ypred, average='micro'))"
   ]
  },
  {
   "cell_type": "code",
   "execution_count": null,
   "id": "bc4842ab",
   "metadata": {},
   "outputs": [],
   "source": [
    "print_evaluation_scores_micro(Ytest, Ypred)"
   ]
  },
  {
   "cell_type": "code",
   "execution_count": null,
   "id": "6355078f",
   "metadata": {},
   "outputs": [],
   "source": [
    "def print_evaluation_scores_macro(Ytest, Ypred):\n",
    "    print('Accuracy score: ', accuracy_score(Ytest, Ypred))\n",
    "    print('F1 score: ', f1_score(Ytest, Ypred, average='macro'))\n",
    "    print('Average precision score: ', average_precision_score(Ytest, Ypred, average='macro'))\n",
    "    print('Average recall score: ', recall_score(Ytest, Ypred, average='macro'))\n"
   ]
  },
  {
   "cell_type": "code",
   "execution_count": null,
   "id": "dca207df",
   "metadata": {},
   "outputs": [],
   "source": [
    "print_evaluation_scores_macro(Ytest, Ypred)\n"
   ]
  },
  {
   "cell_type": "code",
   "execution_count": null,
   "id": "a653fe98",
   "metadata": {},
   "outputs": [],
   "source": [
    "\n",
    "def print_evaluation_scores_weighted(Ytest, Ypred):\n",
    "    print('Accuracy score: ', accuracy_score(Ytest, Ypred))\n",
    "    print('F1 score: ', f1_score(Ytest, Ypred, average='weighted'))\n",
    "    print('Average precision score: ', average_precision_score(Ytest, Ypred, average='weighted'))\n",
    "    print('Average recall score: ', recall_score(Ytest, Ypred, average='weighted'))\n"
   ]
  },
  {
   "cell_type": "code",
   "execution_count": null,
   "id": "251a0917",
   "metadata": {},
   "outputs": [],
   "source": [
    "print_evaluation_scores_weighted(Ytest, Ypred)"
   ]
  },
  {
   "cell_type": "markdown",
   "id": "2361305b",
   "metadata": {},
   "source": [
    "## Print true label and predicted label for any five examples"
   ]
  },
  {
   "cell_type": "code",
   "execution_count": null,
   "id": "3541580a",
   "metadata": {},
   "outputs": [],
   "source": [
    "preds = Ypred[:15]\n",
    "actuals = Ytest[:15]\n",
    "\n",
    "five_actual = binarizer.inverse_transform(actuals)\n",
    "five_actual\n"
   ]
  },
  {
   "cell_type": "code",
   "execution_count": null,
   "id": "c448dbea",
   "metadata": {},
   "outputs": [],
   "source": [
    "five_pred = binarizer.inverse_transform(preds)\n",
    "five_pred"
   ]
  },
  {
   "cell_type": "markdown",
   "id": "76e15459",
   "metadata": {},
   "source": [
    "## Print true label and predicted label for any five examples"
   ]
  },
  {
   "cell_type": "code",
   "execution_count": null,
   "id": "039ed36e",
   "metadata": {},
   "outputs": [],
   "source": [
    "print(binarizer.inverse_transform(Ypred)[777])\n",
    "print(binarizer.inverse_transform(Ytest)[777])"
   ]
  },
  {
   "cell_type": "code",
   "execution_count": null,
   "id": "e46b9b79",
   "metadata": {},
   "outputs": [],
   "source": [
    "print(binarizer.inverse_transform(Ypred)[614])\n",
    "print(binarizer.inverse_transform(Ytest)[614])\n"
   ]
  },
  {
   "cell_type": "code",
   "execution_count": null,
   "id": "72f1bee0",
   "metadata": {},
   "outputs": [],
   "source": [
    "print(binarizer.inverse_transform(Ypred)[199])\n",
    "print(binarizer.inverse_transform(Ytest)[199])\n"
   ]
  },
  {
   "cell_type": "code",
   "execution_count": null,
   "id": "87516379",
   "metadata": {},
   "outputs": [],
   "source": [
    "print(binarizer.inverse_transform(Ypred)[420])\n",
    "print(binarizer.inverse_transform(Ytest)[420])"
   ]
  },
  {
   "cell_type": "code",
   "execution_count": null,
   "id": "fcb6d641",
   "metadata": {},
   "outputs": [],
   "source": [
    "\n",
    "print(binarizer.inverse_transform(Ypred)[600])\n",
    "print(binarizer.inverse_transform(Ytest)[600])"
   ]
  },
  {
   "cell_type": "markdown",
   "id": "884a78dd",
   "metadata": {},
   "source": [
    "## Print true label and predicted label for any five examples"
   ]
  },
  {
   "cell_type": "code",
   "execution_count": null,
   "id": "f5ceea31",
   "metadata": {},
   "outputs": [],
   "source": [
    "import random\n",
    "j=[]\n",
    "for i in range(5):\n",
    " j.append(random.randint(300,len(Ypred)))\n",
    "\n",
    "print(j)\n",
    "for k in j:\n",
    " print(binarizer.inverse_transform(Ypred)[k])\n",
    " print(binarizer.inverse_transform(Ytest)[k])"
   ]
  },
  {
   "cell_type": "code",
   "execution_count": null,
   "id": "505b13d3",
   "metadata": {},
   "outputs": [],
   "source": [
    "Ypred_inversed = binarizer.inverse_transform(Ypred)\n",
    "Ytest_inversed = binarizer.inverse_transform(Ytest)\n",
    "for i in range(5):\n",
    " print('Text:\\t{}\\nTrue labels:\\t{}\\nPredicted labels:\\t{}\\n\\n'.format(\n",
    " Xtest[i],\n",
    " ','.join(Ytest_inversed[i]),\n",
    " ','.join(Ypred_inversed[i])\n",
    " ))"
   ]
  },
  {
   "cell_type": "code",
   "execution_count": null,
   "id": "079f10c5",
   "metadata": {},
   "outputs": [],
   "source": [
    "from sklearn.linear_model import LogisticRegression\n",
    "from sklearn.discriminant_analysis import LinearDiscriminantAnalysis\n",
    "from sklearn.svm import LinearSVC\n",
    "from sklearn.naive_bayes import MultinomialNB"
   ]
  },
  {
   "cell_type": "code",
   "execution_count": null,
   "id": "1ddd10e2",
   "metadata": {},
   "outputs": [],
   "source": [
    "from sklearn.metrics import accuracy_score\n",
    "from sklearn.metrics import f1_score\n",
    "from sklearn.metrics import average_precision_score\n",
    "from sklearn.metrics import recall_score"
   ]
  },
  {
   "cell_type": "code",
   "execution_count": null,
   "id": "a626f799",
   "metadata": {},
   "outputs": [],
   "source": [
    "def build_model_train(Xtrain, Ytrain, X_valid=None, y_valid=None, C=1.0, model='lr'):\n",
    "    if model=='lr':\n",
    "        model = LogisticRegression(C=C, penalty='l1', dual=False, solver='liblinear')\n",
    "        model = OneVsRestClassifier(model)\n",
    "        model.fit(Xtrain, Ytrain)\n",
    "\n",
    "    elif model=='svm':\n",
    "        model = LinearSVC(C=C, penalty='l1', dual=False, loss='squared_hinge')\n",
    "        model = OneVsRestClassifier(model)\n",
    "        model.fit(Xtrain, Ytrain)\n",
    "\n",
    "    elif model=='nbayes':\n",
    "        model = MultinomialNB(alpha=1.0)\n",
    "        model = OneVsRestClassifier(model)\n",
    "        model.fit(Xtrain, Ytrain)\n",
    "\n",
    "    elif model=='lda':\n",
    "        model = LinearDiscriminantAnalysis(solver='svd')\n",
    "        model = OneVsRestClassifier(model)\n",
    "        model.fit(Xtrain, Ytrain)\n",
    "\n",
    "    return model\n",
    "\n",
    "models = ['lr','svm','nbayes']\n",
    "for model in models:\n",
    "    model = build_model_train(Xtrain,Ytrain,model=model)\n",
    "    model.fit(Xtrain,Ytrain)\n",
    "    Ypred=model.predict(Xtest)\n",
    "    print(\"\\n\")\n",
    "    print(f\"**displaying metrics for the mode {model}\\n\")\n",
    "    print_evaluation_scores_micro(Ytest, Ypred)\n",
    "    print(\"\\n\")\n",
    "    print(\"\\n\")\n",
    "    print_evaluation_scores_macro(Ytest, Ypred)\n",
    "    print(\"\\n\")\n",
    "    print(\"\\n\")\n",
    "    print_evaluation_scores_weighted(Ytest,Ypred)\n",
    "    print(\"\\n\")\n",
    "    print(\"\\n\")\n"
   ]
  },
  {
   "cell_type": "markdown",
   "id": "81b0efd7",
   "metadata": {},
   "source": [
    "## Summary "
   ]
  },
  {
   "cell_type": "markdown",
   "id": "9db83a03",
   "metadata": {},
   "source": [
    "Multilabel classication problem that predicts multiple features of the author of a given text was solved. Loading the data and required basic EDA and data inspection has been done The text has been pre processed by cleansing it (removing the unnecessary chars, removing the spaces, converting the case to lower) and also removing the stop words, vectorizing The features Preparing the date, splitting them to train and test using multilable binarizers, also various classier models are trained and the predictions are made and also the accuracy, f1 score, Avg precision and recall scores are calculated"
   ]
  },
  {
   "cell_type": "code",
   "execution_count": null,
   "id": "415f1ac3",
   "metadata": {},
   "outputs": [],
   "source": []
  }
 ],
 "metadata": {
  "kernelspec": {
   "display_name": "Python 3",
   "language": "python",
   "name": "python3"
  },
  "language_info": {
   "codemirror_mode": {
    "name": "ipython",
    "version": 3
   },
   "file_extension": ".py",
   "mimetype": "text/x-python",
   "name": "python",
   "nbconvert_exporter": "python",
   "pygments_lexer": "ipython3",
   "version": "3.8.8"
  }
 },
 "nbformat": 4,
 "nbformat_minor": 5
}
